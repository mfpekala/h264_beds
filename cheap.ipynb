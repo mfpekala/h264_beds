{
 "cells": [
  {
   "cell_type": "code",
   "execution_count": 1,
   "metadata": {},
   "outputs": [],
   "source": [
    "import os\n",
    "import cv2\n",
    "import numpy as np\n",
    "import torch\n",
    "import torch\n",
    "import torch.optim as optim\n",
    "import torch.nn as nn\n",
    "import torch.nn.functional as F\n",
    "from torch.utils.data import Dataset, DataLoader, Subset\n",
    "import matplotlib.pyplot as plt\n",
    "from typing import Optional\n",
    "from small_gg import SmallGGAutoencoder\n",
    "from codec import Chunker, custom_load_img\n",
    "import random"
   ]
  },
  {
   "cell_type": "code",
   "execution_count": 3,
   "metadata": {},
   "outputs": [],
   "source": [
    "def show(chunk):\n",
    "    \"\"\"\n",
    "    Given a 2-dimensional greyscale rep of an image, show it\n",
    "    \"\"\"\n",
    "    plt.imshow(chunk, cmap=\"gray\", vmin=0.0, vmax=1.0)\n",
    "    plt.axis(\"off\")\n",
    "    plt.show()\n",
    "\n",
    "def show2(chunk1, chunk2):\n",
    "    \"\"\"\n",
    "    Given two 2-dimensional grayscale representations of images, show them side by side.\n",
    "    \"\"\"\n",
    "    fig, axes = plt.subplots(1, 2)\n",
    "    axes[0].imshow(chunk1.squeeze(), cmap=\"gray\", vmin=0.0, vmax=1.0)\n",
    "    axes[0].axis(\"off\")\n",
    "    axes[1].imshow(chunk2.squeeze(), cmap=\"gray\", vmin=0.0, vmax=1.0)\n",
    "    axes[1].axis(\"off\")\n",
    "    plt.show()"
   ]
  },
  {
   "cell_type": "code",
   "execution_count": 4,
   "metadata": {},
   "outputs": [],
   "source": [
    "img = custom_load_img(\"frames/basic/i/frame_0.png\")\n",
    "chunks = [chunk for chunk in Chunker(img).to_chunks()]"
   ]
  },
  {
   "cell_type": "code",
   "execution_count": 5,
   "metadata": {},
   "outputs": [],
   "source": [
    "def generate_simple_test(chunk, shift):\n",
    "    \"\"\"\n",
    "    Given a chunk (16x16 ndarray) and shift (tuple[int, int]) produce a\n",
    "    48x48 ndarray with the 16x16 in the center, offset by shift\n",
    "    \"\"\"\n",
    "    result = np.zeros((48, 48), dtype=chunk.dtype)\n",
    "    result[16 + shift[1] : 16 + shift[1] + 16, 16 + shift[0] : 16 + shift[0] + 16] = chunk\n",
    "    return result"
   ]
  },
  {
   "cell_type": "code",
   "execution_count": 6,
   "metadata": {},
   "outputs": [
    {
     "name": "stdout",
     "output_type": "stream",
     "text": [
      "Visualizing test case...\n"
     ]
    },
    {
     "data": {
      "image/png": "[encoded data removed]",
      "text/plain": [
       "<Figure size 640x480 with 2 Axes>"
      ]
     },
     "metadata": {},
     "output_type": "display_data"
    },
    {
     "name": "stdout",
     "output_type": "stream",
     "text": [
      "\n",
      "Visualizing actual prelude difference...\n"
     ]
    },
    {
     "data": {
      "image/png": "[encoded data removed]",
      "text/plain": [
       "<Figure size 640x480 with 2 Axes>"
      ]
     },
     "metadata": {},
     "output_type": "display_data"
    },
    {
     "name": "stdout",
     "output_type": "stream",
     "text": [
      "tensor(0.5347, grad_fn=<SelectBackward0>)\n",
      "Showing naive difference\n"
     ]
    },
    {
     "data": {
      "image/png": "[encoded data removed]",
      "text/plain": [
       "<Figure size 640x480 with 1 Axes>"
      ]
     },
     "metadata": {},
     "output_type": "display_data"
    }
   ],
   "source": [
    "shift = (1, 1)\n",
    "chunk = random.choice(chunks)\n",
    "test = generate_simple_test(chunk.detach().numpy().reshape((16, 16)), shift)\n",
    "post_chunk = test[16 : 32, 16 : 32]\n",
    "post_chunk = torch.from_numpy(post_chunk).unsqueeze(0)\n",
    "print(\"Visualizing test case...\")\n",
    "show2(chunk.detach().numpy().reshape((16, 16)), post_chunk)\n",
    "\n",
    "model = SmallGGAutoencoder.load_model(\"autoencoders/gen3_200.pt\")\n",
    "og_prelude, og_bed = model.embed_with_prelude(chunk)\n",
    "correct_prelude, correct_bed = model.embed_with_prelude(post_chunk)\n",
    "print(\"\")\n",
    "print(\"Visualizing actual prelude difference...\")\n",
    "show2(og_prelude.detach().numpy(), correct_prelude.detach().numpy())\n",
    "\n",
    "prelude_size = 16\n",
    "naive_prelude = np.zeros((prelude_size, prelude_size), dtype=np.float32)\n",
    "relevant = og_prelude.detach().numpy().reshape((prelude_size, prelude_size))\n",
    "naive_prelude[shift[1] : prelude_size, shift[0] : prelude_size] = relevant[0 : prelude_size - shift[1], 0 : prelude_size - shift[0]]\n",
    "print(correct_prelude[0,0,0])\n",
    "\n",
    "print(\"Showing naive difference\")\n",
    "correct_clean = correct_prelude.detach().numpy().reshape((prelude_size, prelude_size))\n",
    "show(np.abs(naive_prelude - correct_clean))\n"
   ]
  },
  {
   "cell_type": "code",
   "execution_count": 7,
   "metadata": {},
   "outputs": [],
   "source": [
    "img = custom_load_img(\"frames/basic/i/frame_0.png\")\n",
    "chunks = [chunk for chunk in Chunker(img, custom_size=48).to_chunks()]"
   ]
  },
  {
   "cell_type": "code",
   "execution_count": 54,
   "metadata": {},
   "outputs": [],
   "source": [
    "def shift_chunk(chunk, shift):\n",
    "    \"\"\"\n",
    "    Shift a chunk\n",
    "    \"\"\"\n",
    "    result = chunk.copy()\n",
    "    result = np.roll(result, shift[0], axis=0)\n",
    "    result = np.roll(result, shift[1], axis=1)\n",
    "    return result\n",
    "\n",
    "def simulate_diff(chunk, frac_random=0.25):\n",
    "    \"\"\"\n",
    "    Slightly too lazy to actually get the chunks from consecutive frames so\n",
    "    just going to add in some randomness\n",
    "    Will replace `frac_random` of the entries with 1/64 * random number in [0, 63]\n",
    "    NOTE: Does NOT modify chunk returns a new chunk\n",
    "    \"\"\"\n",
    "    num_set = int((chunk.shape[0] * chunk.shape[1]) * frac_random)\n",
    "    result = chunk.copy()\n",
    "    for _ in range(num_set):\n",
    "        row = random.randint(0, chunk.shape[0] - 1)\n",
    "        col = random.randint(0, chunk.shape[1] - 1)\n",
    "        mult = sum([random.randint(-1, 1) for _ in range(3)])\n",
    "        new_val = result[row, col] + 1.0 / 64.0 * mult\n",
    "        result[row, col] = max(min(new_val, 1.0), 0.0)\n",
    "    return result\n"
   ]
  },
  {
   "cell_type": "code",
   "execution_count": 55,
   "metadata": {},
   "outputs": [
    {
     "name": "stdout",
     "output_type": "stream",
     "text": [
      "Will be running test on the following chunks\n"
     ]
    },
    {
     "data": {
      "image/png": "[encoded data removed]",
      "text/plain": [
       "<Figure size 640x480 with 2 Axes>"
      ]
     },
     "metadata": {},
     "output_type": "display_data"
    }
   ],
   "source": [
    "# ix = random.randint(0, len(chunks) - 1)\n",
    "ix = 92\n",
    "chunk_tens = chunks[ix]\n",
    "chunk_np = chunk_tens.detach().numpy().reshape((48, 48))\n",
    "chunk = chunks[ix].detach().numpy().reshape((48, 48))\n",
    "shift = (1, 2)\n",
    "shifted = shift_chunk(chunk, shift)\n",
    "diff = simulate_diff(chunk)\n",
    "print(\"Will be running test on the following chunks\")\n",
    "show2(chunk, diff)"
   ]
  },
  {
   "cell_type": "code",
   "execution_count": null,
   "metadata": {},
   "outputs": [],
   "source": []
  },
  {
   "cell_type": "code",
   "execution_count": 18,
   "metadata": {},
   "outputs": [
    {
     "data": {
      "text/plain": [
       "\"\\nWhat's left to do?\\n\\nI need to generate good visuals for showing how to use equivariance to estimate the embedding\\n\\nI need real data about how inaccurate the embedding is\\n\\nI need real data about how fast it is compared to naive way\\n\\nI need to compare it to a somewhat good out-of-the-box CV model\\n\""
      ]
     },
     "execution_count": 18,
     "metadata": {},
     "output_type": "execute_result"
    }
   ],
   "source": [
    "\"\"\"\n",
    "What's left to do?\n",
    "\n",
    "I need to generate good visuals for showing how to use equivariance to estimate the embedding\n",
    "\n",
    "I need real data about how inaccurate the embedding is\n",
    "\n",
    "I need real data about how fast it is compared to naive way\n",
    "\n",
    "I need to compare it to a somewhat good out-of-the-box CV model\n",
    "\"\"\""
   ]
  },
  {
   "cell_type": "code",
   "execution_count": null,
   "metadata": {},
   "outputs": [],
   "source": []
  },
  {
   "cell_type": "code",
   "execution_count": null,
   "metadata": {},
   "outputs": [],
   "source": []
  }
 ],
 "metadata": {
  "kernelspec": {
   "display_name": "apm220",
   "language": "python",
   "name": "python3"
  },
  "language_info": {
   "codemirror_mode": {
    "name": "ipython",
    "version": 3
   },
   "file_extension": ".py",
   "mimetype": "text/x-python",
   "name": "python",
   "nbconvert_exporter": "python",
   "pygments_lexer": "ipython3",
   "version": "3.12.3"
  }
 },
 "nbformat": 4,
 "nbformat_minor": 2
}
